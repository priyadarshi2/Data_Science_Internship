{
 "cells": [
  {
   "cell_type": "code",
   "execution_count": 38,
   "metadata": {},
   "outputs": [],
   "source": [
    "import numpy as np\n",
    "from numpy.random import default_rng\n",
    "import random\n",
    "import ipywidgets as widgets"
   ]
  },
  {
   "cell_type": "code",
   "execution_count": 11,
   "metadata": {},
   "outputs": [
    {
     "name": "stdout",
     "output_type": "stream",
     "text": [
      "[[0.77395605 0.43887844 0.85859792]\n",
      " [0.69736803 0.09417735 0.97562235]\n",
      " [0.7611397  0.78606431 0.12811363]]\n"
     ]
    }
   ],
   "source": [
    "x = default_rng(42).random((3,3))\n",
    "print(x)"
   ]
  },
  {
   "cell_type": "code",
   "execution_count": 17,
   "metadata": {},
   "outputs": [
    {
     "name": "stdout",
     "output_type": "stream",
     "text": [
      "[[0.77395605 0.69736803 0.7611397 ]\n",
      " [0.43887844 0.09417735 0.78606431]\n",
      " [0.85859792 0.97562235 0.12811363]]\n"
     ]
    }
   ],
   "source": [
    "print(x.transpose())\n"
   ]
  },
  {
   "cell_type": "code",
   "execution_count": 19,
   "metadata": {},
   "outputs": [
    {
     "name": "stdout",
     "output_type": "stream",
     "text": [
      "[[0.28572512 0.48888357 0.7116774 ]\n",
      " [0.2965327  0.84503556 0.20165448]\n",
      " [0.12145902 0.3784792  0.85063786]]\n"
     ]
    }
   ],
   "source": [
    "mat = np.zeros((3,3))\n",
    "for i in range(0,3) :\n",
    "    for j in range(0,3):\n",
    "            mat[i,j] = random.random()\n",
    "print(mat)"
   ]
  },
  {
   "cell_type": "code",
   "execution_count": 22,
   "metadata": {},
   "outputs": [
    {
     "name": "stdout",
     "output_type": "stream",
     "text": [
      "[[0.28572512 0.2965327  0.12145902]\n",
      " [0.48888357 0.84503556 0.3784792 ]\n",
      " [0.7116774  0.20165448 0.85063786]]\n"
     ]
    }
   ],
   "source": [
    "for i in range(0,3):\n",
    "    for j in range(0,i):\n",
    "        tmp = mat[i,j]\n",
    "        mat[i,j] = mat[j,i]\n",
    "        mat[j,i] = tmp\n",
    "print(mat)"
   ]
  },
  {
   "cell_type": "code",
   "execution_count": 24,
   "metadata": {},
   "outputs": [
    {
     "name": "stdout",
     "output_type": "stream",
     "text": [
      "[[0.7298985  0.69341496 0.94192102]\n",
      " [0.05965206 0.69052097 0.92239752]\n",
      " [0.47568318 0.33839069 0.60188281]]\n"
     ]
    }
   ],
   "source": [
    "x = mat\n",
    "y = default_rng(40).random((3,3))\n",
    "print(y)"
   ]
  },
  {
   "cell_type": "code",
   "execution_count": 25,
   "metadata": {},
   "outputs": [
    {
     "data": {
      "text/plain": [
       "array([[0.20855034, 0.20562021, 0.1144048 ],\n",
       "       [0.02916291, 0.58351477, 0.34910827],\n",
       "       [0.33853297, 0.068238  , 0.5119843 ]])"
      ]
     },
     "execution_count": 25,
     "metadata": {},
     "output_type": "execute_result"
    }
   ],
   "source": []
  },
  {
   "cell_type": "code",
   "execution_count": 36,
   "metadata": {},
   "outputs": [
    {
     "name": "stdout",
     "output_type": "stream",
     "text": [
      "[1 1 1 2 2 2 3 3 3]\n",
      "[[1 2 3 1 2 3 1 2 3]]\n"
     ]
    }
   ],
   "source": [
    "a = np.array([[1,2,3],])\n",
    "print(np.repeat(a,3))\n",
    "print(np.tile(a,3))\n"
   ]
  },
  {
   "cell_type": "code",
   "execution_count": 37,
   "metadata": {},
   "outputs": [
    {
     "name": "stdout",
     "output_type": "stream",
     "text": [
      "[[1 2 3]]\n",
      "[[1]\n",
      " [2]\n",
      " [3]]\n",
      "(1, 3) (3, 1)\n"
     ]
    }
   ],
   "source": [
    "b = a.transpose()\n",
    "print(a)\n",
    "print(b)\n",
    "print(str(a.shape) + \" \" + str(b.shape))"
   ]
  },
  {
   "cell_type": "code",
   "execution_count": 55,
   "metadata": {},
   "outputs": [
    {
     "name": "stdout",
     "output_type": "stream",
     "text": [
      "[-4  8 -4]\n"
     ]
    }
   ],
   "source": [
    "a = np.array([1,2,3])\n",
    "b = np.array([3,2,1])\n",
    "print(np.cross(a,b))"
   ]
  },
  {
   "cell_type": "code",
   "execution_count": null,
   "metadata": {},
   "outputs": [],
   "source": [
    "widgets.IntRangeSlider"
   ]
  }
 ],
 "metadata": {
  "kernelspec": {
   "display_name": "basicEnv",
   "language": "python",
   "name": "basicenv"
  },
  "language_info": {
   "codemirror_mode": {
    "name": "ipython",
    "version": 3
   },
   "file_extension": ".py",
   "mimetype": "text/x-python",
   "name": "python",
   "nbconvert_exporter": "python",
   "pygments_lexer": "ipython3",
   "version": "3.12.4"
  }
 },
 "nbformat": 4,
 "nbformat_minor": 2
}
