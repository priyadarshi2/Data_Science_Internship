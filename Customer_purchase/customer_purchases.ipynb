{
 "cells": [
  {
   "cell_type": "code",
   "execution_count": 55,
   "metadata": {},
   "outputs": [],
   "source": [
    "import numpy as np\n",
    "import pandas as pd"
   ]
  },
  {
   "cell_type": "code",
   "execution_count": 4,
   "metadata": {},
   "outputs": [
    {
     "data": {
      "text/html": [
       "<div>\n",
       "<style scoped>\n",
       "    .dataframe tbody tr th:only-of-type {\n",
       "        vertical-align: middle;\n",
       "    }\n",
       "\n",
       "    .dataframe tbody tr th {\n",
       "        vertical-align: top;\n",
       "    }\n",
       "\n",
       "    .dataframe thead th {\n",
       "        text-align: right;\n",
       "    }\n",
       "</style>\n",
       "<table border=\"1\" class=\"dataframe\">\n",
       "  <thead>\n",
       "    <tr style=\"text-align: right;\">\n",
       "      <th></th>\n",
       "      <th>CustomerID</th>\n",
       "      <th>ProductCategory</th>\n",
       "      <th>PurchaseAmount</th>\n",
       "      <th>PurchaseDate</th>\n",
       "    </tr>\n",
       "  </thead>\n",
       "  <tbody>\n",
       "    <tr>\n",
       "      <th>0</th>\n",
       "      <td>1534</td>\n",
       "      <td>Sports</td>\n",
       "      <td>260.09</td>\n",
       "      <td>2020-01-01 00:00:00</td>\n",
       "    </tr>\n",
       "    <tr>\n",
       "      <th>1</th>\n",
       "      <td>2570</td>\n",
       "      <td>Clothing</td>\n",
       "      <td>33.27</td>\n",
       "      <td>2020-01-01 00:00:00</td>\n",
       "    </tr>\n",
       "    <tr>\n",
       "      <th>2</th>\n",
       "      <td>2998</td>\n",
       "      <td>Sports</td>\n",
       "      <td>299.04</td>\n",
       "      <td>2020-01-01 00:00:00</td>\n",
       "    </tr>\n",
       "    <tr>\n",
       "      <th>3</th>\n",
       "      <td>1329</td>\n",
       "      <td>Sports</td>\n",
       "      <td>320.67</td>\n",
       "      <td>2020-01-01 00:00:00</td>\n",
       "    </tr>\n",
       "    <tr>\n",
       "      <th>4</th>\n",
       "      <td>1754</td>\n",
       "      <td>Groceries</td>\n",
       "      <td>244.19</td>\n",
       "      <td>2020-01-01 00:00:00</td>\n",
       "    </tr>\n",
       "    <tr>\n",
       "      <th>5</th>\n",
       "      <td>3587</td>\n",
       "      <td>Books</td>\n",
       "      <td>30.02</td>\n",
       "      <td>2020-01-01 00:00:00</td>\n",
       "    </tr>\n",
       "    <tr>\n",
       "      <th>6</th>\n",
       "      <td>4493</td>\n",
       "      <td>Sports</td>\n",
       "      <td>209.32</td>\n",
       "      <td>2020-01-01 00:00:00</td>\n",
       "    </tr>\n",
       "    <tr>\n",
       "      <th>7</th>\n",
       "      <td>2464</td>\n",
       "      <td>Groceries</td>\n",
       "      <td>107.68</td>\n",
       "      <td>2020-01-01 00:00:00</td>\n",
       "    </tr>\n",
       "    <tr>\n",
       "      <th>8</th>\n",
       "      <td>2428</td>\n",
       "      <td>Books</td>\n",
       "      <td>490.26</td>\n",
       "      <td>2020-01-01 00:00:00</td>\n",
       "    </tr>\n",
       "    <tr>\n",
       "      <th>9</th>\n",
       "      <td>3666</td>\n",
       "      <td>Books</td>\n",
       "      <td>87.31</td>\n",
       "      <td>2020-01-01 00:00:00</td>\n",
       "    </tr>\n",
       "  </tbody>\n",
       "</table>\n",
       "</div>"
      ],
      "text/plain": [
       "   CustomerID ProductCategory  PurchaseAmount         PurchaseDate\n",
       "0        1534          Sports          260.09  2020-01-01 00:00:00\n",
       "1        2570        Clothing           33.27  2020-01-01 00:00:00\n",
       "2        2998          Sports          299.04  2020-01-01 00:00:00\n",
       "3        1329          Sports          320.67  2020-01-01 00:00:00\n",
       "4        1754       Groceries          244.19  2020-01-01 00:00:00\n",
       "5        3587           Books           30.02  2020-01-01 00:00:00\n",
       "6        4493          Sports          209.32  2020-01-01 00:00:00\n",
       "7        2464       Groceries          107.68  2020-01-01 00:00:00\n",
       "8        2428           Books          490.26  2020-01-01 00:00:00\n",
       "9        3666           Books           87.31  2020-01-01 00:00:00"
      ]
     },
     "execution_count": 4,
     "metadata": {},
     "output_type": "execute_result"
    }
   ],
   "source": [
    "#Import the data as dataframe\n",
    "df = pd.read_csv('large_customer_purchases.csv') \n",
    "\n",
    "#Display first 10 rows\n",
    "df.head(10) #"
   ]
  },
  {
   "cell_type": "code",
   "execution_count": 6,
   "metadata": {},
   "outputs": [
    {
     "data": {
      "text/plain": [
       "(1000000, 4)"
      ]
     },
     "execution_count": 6,
     "metadata": {},
     "output_type": "execute_result"
    }
   ],
   "source": [
    "#Display the shape of the dataframe \n",
    "df.shape"
   ]
  },
  {
   "cell_type": "code",
   "execution_count": null,
   "metadata": {},
   "outputs": [
    {
     "name": "stdout",
     "output_type": "stream",
     "text": [
      "['Sports', 'Clothing', 'Groceries', 'Books', 'Electronics']\n"
     ]
    }
   ],
   "source": [
    "#Saving all products lists in the data frame\n",
    "product_category_list = list(df[\"ProductCategory\"].unique())\n",
    "print(product_category_list)"
   ]
  },
  {
   "cell_type": "code",
   "execution_count": 11,
   "metadata": {},
   "outputs": [
    {
     "data": {
      "text/plain": [
       "'The total purchasing amount will be : 252468462.98'"
      ]
     },
     "metadata": {},
     "output_type": "display_data"
    }
   ],
   "source": [
    "#Computing the total purchsing amount\n",
    "total_amount = df.PurchaseAmount.sum()\n",
    "\n",
    "#displaying the amount\n",
    "display(\"The total purchasing amount will be : \" + str(round(total_amount,2))) "
   ]
  },
  {
   "cell_type": "code",
   "execution_count": 35,
   "metadata": {},
   "outputs": [
    {
     "name": "stdout",
     "output_type": "stream",
     "text": [
      "Most popular product is : Groceries\n"
     ]
    }
   ],
   "source": [
    "#Finding the index of the most popular product\n",
    "most_popular_product = df.ProductCategory.value_counts(ascending=False).index[0]\n",
    "print(\"Most popular product is : \" + str(most_popular_product))"
   ]
  },
  {
   "cell_type": "code",
   "execution_count": 58,
   "metadata": {},
   "outputs": [
    {
     "name": "stdout",
     "output_type": "stream",
     "text": [
      "The averages : \n",
      "\n",
      "{'Sports': 252.4, 'Clothing': 252.45, 'Groceries': 252.57, 'Books': 252.84, 'Electronics': 252.09}\n"
     ]
    }
   ],
   "source": [
    "#Create a dictionary of frequencies of all categories\n",
    "total_counts_by_category = dict(df.ProductCategory.value_counts())\n",
    "\n",
    "#Create a dictionary of sum of all categories\n",
    "total_amount_by_category = dict(df.groupby(\"ProductCategory\")[\"PurchaseAmount\"].sum())\n",
    "\n",
    "#Create a dictionary for averages of all categories\n",
    "average_amount_by_category = dict()\n",
    "\n",
    "#Calculate average for each product category\n",
    "for i in product_category_list:\n",
    "    average_amount_by_category[i] = round((total_amount_by_category[i]/total_counts_by_category[i]),2)\n",
    "\n",
    "#Print the averages\n",
    "print(\"The averages : \\n\")\n",
    "print(average_amount_by_category)"
   ]
  },
  {
   "cell_type": "code",
   "execution_count": 91,
   "metadata": {},
   "outputs": [
    {
     "data": {
      "text/plain": [
       "CustomerID\n",
       "1001    [346.9, 317.4, 305.26, 243.83, 473.69, 205.93,...\n",
       "1002    [406.27, 330.14, 250.41, 376.28, 210.85, 294.7...\n",
       "1003    [296.52, 264.31, 465.77, 386.11, 442.56, 269.1...\n",
       "1004    [329.46, 489.12, 234.66, 275.36, 211.34, 440.8...\n",
       "1005    [253.49, 267.92, 407.31, 401.5, 488.95, 372.56...\n",
       "                              ...                        \n",
       "4995    [289.3, 348.89, 375.3, 218.55, 493.12, 367.22,...\n",
       "4996    [391.64, 362.78, 419.83, 444.75, 342.75, 424.7...\n",
       "4997    [285.92, 295.02, 421.78, 461.08, 452.39, 290.5...\n",
       "4998    [437.92, 327.08, 466.43, 460.05, 447.8, 228.02...\n",
       "4999    [489.12, 445.61, 227.23, 477.33, 317.54, 374.8...\n",
       "Name: PurchaseAmount, Length: 3999, dtype: object"
      ]
     },
     "execution_count": 91,
     "metadata": {},
     "output_type": "execute_result"
    }
   ],
   "source": [
    "#Use query to find id of customers who purchased anything over 200\n",
    "customers_over_two_hundred = df[df['PurchaseAmount'] >= 200.00].groupby('CustomerID')['PurchaseAmount'].apply(list)\n",
    "\n",
    "#Display the Id of the customers\n",
    "customers_over_two_hundred"
   ]
  },
  {
   "cell_type": "code",
   "execution_count": null,
   "metadata": {},
   "outputs": [
    {
     "data": {
      "text/plain": [
       "0         2020\n",
       "1         2020\n",
       "2         2020\n",
       "3         2020\n",
       "4         2020\n",
       "          ... \n",
       "999995    2020\n",
       "999996    2020\n",
       "999997    2020\n",
       "999998    2020\n",
       "999999    2020\n",
       "Name: PurchaseYear, Length: 1000000, dtype: int32"
      ]
     },
     "execution_count": 93,
     "metadata": {},
     "output_type": "execute_result"
    }
   ],
   "source": [
    "#Create a new column Purchase year and extract yearly value from the 'PurchaseDate' column\n",
    "df['PurchaseYear'] = pd.DatetimeIndex(df['PurchaseDate']).year\n",
    "\n",
    "#display the newly added column\n",
    "df['PurchaseYear']"
   ]
  }
 ],
 "metadata": {
  "kernelspec": {
   "display_name": "basicEnv",
   "language": "python",
   "name": "basicenv"
  },
  "language_info": {
   "codemirror_mode": {
    "name": "ipython",
    "version": 3
   },
   "file_extension": ".py",
   "mimetype": "text/x-python",
   "name": "python",
   "nbconvert_exporter": "python",
   "pygments_lexer": "ipython3",
   "version": "3.12.4"
  }
 },
 "nbformat": 4,
 "nbformat_minor": 2
}
