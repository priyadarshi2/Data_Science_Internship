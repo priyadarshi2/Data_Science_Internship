{
 "cells": [
  {
   "cell_type": "code",
   "execution_count": 2,
   "metadata": {},
   "outputs": [],
   "source": [
    "import numpy as np\n",
    "import pandas as pd\n",
    "import matplotlib.pyplot as plt\n",
    "import sklearn as sk\n",
    "from sklearn.linear_model import LogisticRegression as LR\n",
    "import ipywidgets as widgets"
   ]
  },
  {
   "cell_type": "code",
   "execution_count": 3,
   "metadata": {},
   "outputs": [
    {
     "data": {
      "text/html": [
       "<div>\n",
       "<style scoped>\n",
       "    .dataframe tbody tr th:only-of-type {\n",
       "        vertical-align: middle;\n",
       "    }\n",
       "\n",
       "    .dataframe tbody tr th {\n",
       "        vertical-align: top;\n",
       "    }\n",
       "\n",
       "    .dataframe thead th {\n",
       "        text-align: right;\n",
       "    }\n",
       "</style>\n",
       "<table border=\"1\" class=\"dataframe\">\n",
       "  <thead>\n",
       "    <tr style=\"text-align: right;\">\n",
       "      <th></th>\n",
       "      <th>id</th>\n",
       "      <th>Date</th>\n",
       "      <th>number of bedrooms</th>\n",
       "      <th>number of bathrooms</th>\n",
       "      <th>living area</th>\n",
       "      <th>lot area</th>\n",
       "      <th>number of floors</th>\n",
       "      <th>waterfront present</th>\n",
       "      <th>number of views</th>\n",
       "      <th>condition of the house</th>\n",
       "      <th>...</th>\n",
       "      <th>Built Year</th>\n",
       "      <th>Renovation Year</th>\n",
       "      <th>Postal Code</th>\n",
       "      <th>Lattitude</th>\n",
       "      <th>Longitude</th>\n",
       "      <th>living_area_renov</th>\n",
       "      <th>lot_area_renov</th>\n",
       "      <th>Number of schools nearby</th>\n",
       "      <th>Distance from the airport</th>\n",
       "      <th>Price</th>\n",
       "    </tr>\n",
       "  </thead>\n",
       "  <tbody>\n",
       "    <tr>\n",
       "      <th>0</th>\n",
       "      <td>6762810635</td>\n",
       "      <td>42491</td>\n",
       "      <td>4</td>\n",
       "      <td>2.50</td>\n",
       "      <td>2920</td>\n",
       "      <td>4000</td>\n",
       "      <td>1.5</td>\n",
       "      <td>0</td>\n",
       "      <td>0</td>\n",
       "      <td>5</td>\n",
       "      <td>...</td>\n",
       "      <td>1909</td>\n",
       "      <td>0</td>\n",
       "      <td>122004</td>\n",
       "      <td>52.8878</td>\n",
       "      <td>-114.470</td>\n",
       "      <td>2470</td>\n",
       "      <td>4000</td>\n",
       "      <td>2</td>\n",
       "      <td>51</td>\n",
       "      <td>1400000</td>\n",
       "    </tr>\n",
       "    <tr>\n",
       "      <th>1</th>\n",
       "      <td>6762810998</td>\n",
       "      <td>42491</td>\n",
       "      <td>5</td>\n",
       "      <td>2.75</td>\n",
       "      <td>2910</td>\n",
       "      <td>9480</td>\n",
       "      <td>1.5</td>\n",
       "      <td>0</td>\n",
       "      <td>0</td>\n",
       "      <td>3</td>\n",
       "      <td>...</td>\n",
       "      <td>1939</td>\n",
       "      <td>0</td>\n",
       "      <td>122004</td>\n",
       "      <td>52.8852</td>\n",
       "      <td>-114.468</td>\n",
       "      <td>2940</td>\n",
       "      <td>6600</td>\n",
       "      <td>1</td>\n",
       "      <td>53</td>\n",
       "      <td>1200000</td>\n",
       "    </tr>\n",
       "    <tr>\n",
       "      <th>2</th>\n",
       "      <td>6762812605</td>\n",
       "      <td>42491</td>\n",
       "      <td>4</td>\n",
       "      <td>2.50</td>\n",
       "      <td>3310</td>\n",
       "      <td>42998</td>\n",
       "      <td>2.0</td>\n",
       "      <td>0</td>\n",
       "      <td>0</td>\n",
       "      <td>3</td>\n",
       "      <td>...</td>\n",
       "      <td>2001</td>\n",
       "      <td>0</td>\n",
       "      <td>122005</td>\n",
       "      <td>52.9532</td>\n",
       "      <td>-114.321</td>\n",
       "      <td>3350</td>\n",
       "      <td>42847</td>\n",
       "      <td>3</td>\n",
       "      <td>76</td>\n",
       "      <td>838000</td>\n",
       "    </tr>\n",
       "    <tr>\n",
       "      <th>3</th>\n",
       "      <td>6762812919</td>\n",
       "      <td>42491</td>\n",
       "      <td>3</td>\n",
       "      <td>2.00</td>\n",
       "      <td>2710</td>\n",
       "      <td>4500</td>\n",
       "      <td>1.5</td>\n",
       "      <td>0</td>\n",
       "      <td>0</td>\n",
       "      <td>4</td>\n",
       "      <td>...</td>\n",
       "      <td>1929</td>\n",
       "      <td>0</td>\n",
       "      <td>122006</td>\n",
       "      <td>52.9047</td>\n",
       "      <td>-114.485</td>\n",
       "      <td>2060</td>\n",
       "      <td>4500</td>\n",
       "      <td>1</td>\n",
       "      <td>51</td>\n",
       "      <td>805000</td>\n",
       "    </tr>\n",
       "    <tr>\n",
       "      <th>4</th>\n",
       "      <td>6762813105</td>\n",
       "      <td>42491</td>\n",
       "      <td>3</td>\n",
       "      <td>2.50</td>\n",
       "      <td>2600</td>\n",
       "      <td>4750</td>\n",
       "      <td>1.0</td>\n",
       "      <td>0</td>\n",
       "      <td>0</td>\n",
       "      <td>4</td>\n",
       "      <td>...</td>\n",
       "      <td>1951</td>\n",
       "      <td>0</td>\n",
       "      <td>122007</td>\n",
       "      <td>52.9133</td>\n",
       "      <td>-114.590</td>\n",
       "      <td>2380</td>\n",
       "      <td>4750</td>\n",
       "      <td>1</td>\n",
       "      <td>67</td>\n",
       "      <td>790000</td>\n",
       "    </tr>\n",
       "  </tbody>\n",
       "</table>\n",
       "<p>5 rows × 23 columns</p>\n",
       "</div>"
      ],
      "text/plain": [
       "           id   Date  number of bedrooms  number of bathrooms  living area  \\\n",
       "0  6762810635  42491                   4                 2.50         2920   \n",
       "1  6762810998  42491                   5                 2.75         2910   \n",
       "2  6762812605  42491                   4                 2.50         3310   \n",
       "3  6762812919  42491                   3                 2.00         2710   \n",
       "4  6762813105  42491                   3                 2.50         2600   \n",
       "\n",
       "   lot area  number of floors  waterfront present  number of views  \\\n",
       "0      4000               1.5                   0                0   \n",
       "1      9480               1.5                   0                0   \n",
       "2     42998               2.0                   0                0   \n",
       "3      4500               1.5                   0                0   \n",
       "4      4750               1.0                   0                0   \n",
       "\n",
       "   condition of the house  ...  Built Year  Renovation Year  Postal Code  \\\n",
       "0                       5  ...        1909                0       122004   \n",
       "1                       3  ...        1939                0       122004   \n",
       "2                       3  ...        2001                0       122005   \n",
       "3                       4  ...        1929                0       122006   \n",
       "4                       4  ...        1951                0       122007   \n",
       "\n",
       "   Lattitude  Longitude  living_area_renov  lot_area_renov  \\\n",
       "0    52.8878   -114.470               2470            4000   \n",
       "1    52.8852   -114.468               2940            6600   \n",
       "2    52.9532   -114.321               3350           42847   \n",
       "3    52.9047   -114.485               2060            4500   \n",
       "4    52.9133   -114.590               2380            4750   \n",
       "\n",
       "   Number of schools nearby  Distance from the airport    Price  \n",
       "0                         2                         51  1400000  \n",
       "1                         1                         53  1200000  \n",
       "2                         3                         76   838000  \n",
       "3                         1                         51   805000  \n",
       "4                         1                         67   790000  \n",
       "\n",
       "[5 rows x 23 columns]"
      ]
     },
     "execution_count": 3,
     "metadata": {},
     "output_type": "execute_result"
    }
   ],
   "source": [
    "df = pd.read_csv(\"House_Price_India.csv\")\n",
    "df.head()\n"
   ]
  },
  {
   "cell_type": "code",
   "execution_count": 22,
   "metadata": {},
   "outputs": [
    {
     "name": "stdout",
     "output_type": "stream",
     "text": [
      "Index(['id', 'Date', 'number of bedrooms', 'number of bathrooms',\n",
      "       'living area', 'lot area', 'number of floors', 'waterfront present',\n",
      "       'number of views', 'condition of the house', 'grade of the house',\n",
      "       'Area of the house(excluding basement)', 'Area of the basement',\n",
      "       'Built Year', 'Renovation Year', 'Postal Code', 'Lattitude',\n",
      "       'Longitude', 'living_area_renov', 'lot_area_renov',\n",
      "       'Number of schools nearby', 'Distance from the airport', 'Price'],\n",
      "      dtype='object')\n"
     ]
    }
   ],
   "source": [
    "print(df.columns)"
   ]
  },
  {
   "cell_type": "code",
   "execution_count": 59,
   "metadata": {},
   "outputs": [
    {
     "data": {
      "text/plain": [
       "0    6762810635\n",
       "1    6762810998\n",
       "2    6762812605\n",
       "Name: id, dtype: int64"
      ]
     },
     "execution_count": 59,
     "metadata": {},
     "output_type": "execute_result"
    }
   ],
   "source": [
    "df.iloc[0:3,0]"
   ]
  },
  {
   "cell_type": "code",
   "execution_count": 58,
   "metadata": {},
   "outputs": [
    {
     "data": {
      "text/plain": [
       "6762810635"
      ]
     },
     "execution_count": 58,
     "metadata": {},
     "output_type": "execute_result"
    }
   ],
   "source": [
    "df.loc[0,'id']"
   ]
  },
  {
   "cell_type": "code",
   "execution_count": 67,
   "metadata": {},
   "outputs": [
    {
     "data": {
      "text/plain": [
       "0        False\n",
       "1         True\n",
       "2        False\n",
       "3        False\n",
       "4        False\n",
       "         ...  \n",
       "14614    False\n",
       "14615    False\n",
       "14616    False\n",
       "14617    False\n",
       "14618    False\n",
       "Name: id, Length: 14619, dtype: bool"
      ]
     },
     "execution_count": 67,
     "metadata": {},
     "output_type": "execute_result"
    }
   ],
   "source": [
    "df.id == 6762810998"
   ]
  },
  {
   "cell_type": "code",
   "execution_count": 69,
   "metadata": {},
   "outputs": [
    {
     "data": {
      "text/plain": [
       "0        1.5\n",
       "1        1.5\n",
       "2        2.0\n",
       "3        1.5\n",
       "4        1.0\n",
       "        ... \n",
       "14614    1.0\n",
       "14615    1.5\n",
       "14616    1.0\n",
       "14617    1.0\n",
       "14618    1.0\n",
       "Name: number of floors, Length: 14619, dtype: float64"
      ]
     },
     "execution_count": 69,
     "metadata": {},
     "output_type": "execute_result"
    }
   ],
   "source": [
    "df['number of floors']"
   ]
  },
  {
   "cell_type": "code",
   "execution_count": 10,
   "metadata": {},
   "outputs": [
    {
     "data": {
      "text/plain": [
       "Built Year\n",
       "1900    1170\n",
       "1901    1307\n",
       "1902    1210\n",
       "1903    1676\n",
       "1904    1213\n",
       "        ... \n",
       "2011    1104\n",
       "2012     758\n",
       "2013     748\n",
       "2014    1090\n",
       "2015    1495\n",
       "Name: lot_area_renov, Length: 116, dtype: int64"
      ]
     },
     "execution_count": 10,
     "metadata": {},
     "output_type": "execute_result"
    }
   ],
   "source": [
    "df.groupby('Built Year').lot_area_renov.min()"
   ]
  },
  {
   "cell_type": "code",
   "execution_count": 23,
   "metadata": {},
   "outputs": [
    {
     "name": "stdout",
     "output_type": "stream",
     "text": [
      "[1. 2. 0. 4.]\n",
      "[1.0, 2.0, 0.0, 4.0]\n"
     ]
    }
   ],
   "source": [
    "x = np.array([1,2,np.nan,4])\n",
    "index = np.where(np.isnan(x) == True)\n",
    "for i in index:\n",
    "    x[index] = 0\n",
    "print(x)\n",
    "print(list(x))\n"
   ]
  },
  {
   "cell_type": "code",
   "execution_count": 31,
   "metadata": {},
   "outputs": [
    {
     "name": "stdout",
     "output_type": "stream",
     "text": [
      "[[0. 0.]\n",
      " [0. 0.]\n",
      " [0. 0.]]\n",
      "[[0. 0. 0.]\n",
      " [0. 0. 0.]\n",
      " [0. 0. 0.]]\n"
     ]
    }
   ],
   "source": [
    "A = np.zeros((3,2))\n",
    "B = np.zeros((3,3))\n",
    "print(A)\n",
    "print(B)"
   ]
  },
  {
   "cell_type": "code",
   "execution_count": 51,
   "metadata": {},
   "outputs": [],
   "source": [
    "floattext = widgets.FloatText( description='Enter : ', value=0.0 )\n"
   ]
  },
  {
   "cell_type": "code",
   "execution_count": 26,
   "metadata": {},
   "outputs": [
    {
     "name": "stdout",
     "output_type": "stream",
     "text": [
      "The two matrices can't be multiplied\n"
     ]
    }
   ],
   "source": [
    "try:\n",
    "    Product = A*B\n",
    "except:\n",
    "    print(\"The two matrices can't be multiplied\")"
   ]
  }
 ],
 "metadata": {
  "kernelspec": {
   "display_name": "basicEnv",
   "language": "python",
   "name": "basicenv"
  },
  "language_info": {
   "codemirror_mode": {
    "name": "ipython",
    "version": 3
   },
   "file_extension": ".py",
   "mimetype": "text/x-python",
   "name": "python",
   "nbconvert_exporter": "python",
   "pygments_lexer": "ipython3",
   "version": "3.12.4"
  }
 },
 "nbformat": 4,
 "nbformat_minor": 2
}
